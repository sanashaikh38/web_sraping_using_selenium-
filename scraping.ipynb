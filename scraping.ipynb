{
 "cells": [
  {
   "cell_type": "code",
   "execution_count": 73,
   "metadata": {},
   "outputs": [],
   "source": [
    "#Import libraries\n",
    "from selenium import webdriver\n",
    "from time import sleep \n",
    "from webdriver_manager.chrome import ChromeDriverManager\n",
    "from selenium.webdriver.chrome.service import Service\n",
    "from bs4 import BeautifulSoup\n",
    "import json\n"
   ]
  },
  {
   "cell_type": "code",
   "execution_count": 76,
   "metadata": {},
   "outputs": [],
   "source": [
    "# Install beautifulsoup \n",
    "# pip install BeautifulSoup4"
   ]
  },
  {
   "cell_type": "code",
   "execution_count": 77,
   "metadata": {},
   "outputs": [],
   "source": [
    "# path to the chromeDriver executable\n",
    "path =\"C:\\\\Users\\\\sanas\\\\myprojects\\\\scrapper\\\\chromedriver.exe\""
   ]
  },
  {
   "cell_type": "code",
   "execution_count": 80,
   "metadata": {},
   "outputs": [],
   "source": [
    "# Set chrome option if needed \n",
    "chrome_options = webdriver.ChromeOptions()\n",
    "\n"
   ]
  },
  {
   "cell_type": "code",
   "execution_count": 81,
   "metadata": {},
   "outputs": [],
   "source": [
    "# chrome drives setup\n",
    "driver = webdriver.Chrome(service=Service(ChromeDriverManager().install()), options=chrome_options)\n"
   ]
  },
  {
   "cell_type": "code",
   "execution_count": 83,
   "metadata": {},
   "outputs": [],
   "source": [
    "# url u want to scrape\n",
    "url_to_scrape = 'https://archive.org/services/offshoot/home-page/collections.php?page=1&count=50' "
   ]
  },
  {
   "cell_type": "code",
   "execution_count": 84,
   "metadata": {},
   "outputs": [],
   "source": [
    "# open the url\n",
    "driver.get(url_to_scrape)"
   ]
  },
  {
   "cell_type": "code",
   "execution_count": null,
   "metadata": {},
   "outputs": [],
   "source": []
  },
  {
   "cell_type": "code",
   "execution_count": 85,
   "metadata": {},
   "outputs": [
    {
     "name": "stdout",
     "output_type": "stream",
     "text": [
      "{\"success\":true,\"value\":{\"docs\":[{\"identifier\":\"americana\",\"title\":\"American Libraries\",\"item_count\":\"4129513\"},{\"identifier\":\"audio_bookspoetry\",\"title\":\"Audio Books & Poetry\",\"item_count\":\"168128\"},{\"identifier\":\"librivoxaudio\",\"title\":\"The LibriVox Free Audiobook Collection\",\"item_count\":\"19637\"},{\"identifier\":\"additional_collections\",\"title\":\"Additional Collections\",\"item_count\":\"22674312\"},{\"identifier\":\"apkarchive\",\"title\":\"APK Archive\",\"item_count\":\"122974\"},{\"identifier\":\"etree\",\"title\":\"Live Music Archive\",\"item_count\":\"276051\"},{\"identifier\":\"toronto\",\"title\":\"Canadian Libraries\",\"item_count\":\"861188\"},{\"identifier\":\"phonesoftware\",\"title\":\"The Phone Software Archive\",\"item_count\":\"162388\"},{\"identifier\":\"artsandmusicvideos\",\"title\":\"Arts & Music\",\"item_count\":\"19617\"},{\"identifier\":\"ElectricSheep\",\"title\":\"Electric Sheep\",\"item_count\":\"736\"},{\"identifier\":\"folksoundomy\",\"title\":\"Folksoundomy: A Library of Sound\",\"item_count\":\"1024773\"},{\"identifier\":\"moviesandfilms\",\"title\":\"Movies\",\"item_count\":\"102831\"},{\"identifier\":\"kodi_archive\",\"title\":\"Kodi Archive and Support File Collection\",\"item_count\":\"47113\"},{\"identifier\":\"robarts\",\"title\":\"University of Toronto - Robarts Library\",\"item_count\":\"256063\"},{\"identifier\":\"uspto\",\"title\":\"United States Patent and Trademark Office documents\",\"item_count\":\"446037\"},{\"identifier\":\"audio_religion\",\"title\":\"Spirituality & Religion\",\"item_count\":\"652742\"},{\"identifier\":\"feature_films\",\"title\":\"Feature Films\",\"item_count\":\"28385\"},{\"identifier\":\"tvarchive\",\"title\":\"Television Archive\",\"item_count\":\"10423808\"},{\"identifier\":\"cdl\",\"title\":\"California Digital Library\",\"item_count\":\"201284\"},{\"identifier\":\"tvnews\",\"title\":\"Television Archive News Search Service\",\"item_count\":\"2644091\"},{\"identifier\":\"printdisabled\",\"title\":\"Books for People with Print Disabilities\",\"item_count\":\"9741930\"},{\"identifier\":\"audio_islamic\",\"title\":\"Islamic Sermons and Lessons\",\"item_count\":\"373528\"},{\"identifier\":\"podcasts\",\"title\":\"Podcasts\",\"item_count\":\"61996721\"},{\"identifier\":\"internetarchivebooks\",\"title\":\"Internet Archive Books\",\"item_count\":\"5905879\"},{\"identifier\":\"spiritualityandreligion\",\"title\":\"Spirituality & Religion\",\"item_count\":\"142850\"},{\"identifier\":\"europeanlibraries\",\"title\":\"European Libraries\",\"item_count\":\"761153\"},{\"identifier\":\"opensource_religionvideo\",\"title\":\"Community Spirituality and Religion\",\"item_count\":\"122460\"},{\"identifier\":\"radioprograms\",\"title\":\"Radio Show and Programs Archive\",\"item_count\":\"39924190\"},{\"identifier\":\"inlibrary\",\"title\":\"Texts to Borrow\",\"item_count\":\"6865781\"},{\"identifier\":\"vintagesoftware\",\"title\":\"The Vintage Software Collection\",\"item_count\":\"277585\"},{\"identifier\":\"netlabels\",\"title\":\"Netlabels\",\"item_count\":\"89513\"},{\"identifier\":\"newsandpublicaffairs\",\"title\":\"News & Public Affairs\",\"item_count\":\"2326303\"},{\"identifier\":\"digitallibraryindia\",\"title\":\"Public Library of India\",\"item_count\":\"749338\"},{\"identifier\":\"JaiGyan\",\"title\":\"JaiGyan: Bharat Ek Khoj\",\"item_count\":\"1513536\"},{\"identifier\":\"folkscanomy\",\"title\":\"Folkscanomy: A Library of Books\",\"item_count\":\"246510\"},{\"identifier\":\"prelinger\",\"title\":\"Prelinger Archives\",\"item_count\":\"9146\"},{\"identifier\":\"GratefulDead\",\"title\":\"Grateful Dead\",\"item_count\":\"17560\"},{\"identifier\":\"biodiversity\",\"title\":\"Biodiversity Heritage Library\",\"item_count\":\"304453\"},{\"identifier\":\"audio_sermons\",\"title\":\"Sermons & Religious Lectures\",\"item_count\":\"355079\"},{\"identifier\":\"magazine_rack\",\"title\":\"The Magazine Rack\",\"item_count\":\"424553\"},{\"identifier\":\"audio_music\",\"title\":\"Music, Arts & Culture\",\"item_count\":\"1078477\"},{\"identifier\":\"additional_collections_video\",\"title\":\"Additional Collections - Video\",\"item_count\":\"1297236\"},{\"identifier\":\"hentaiarchive\",\"title\":\"Hentai\",\"item_count\":\"3467\"},{\"identifier\":\"islamic_studies\",\"title\":\"Islamic Studies and Cultural Collection\",\"item_count\":\"26743\"},{\"identifier\":\"usfederalcourts\",\"title\":\"RECAP US Federal Court Documents\",\"item_count\":\"8369127\"},{\"identifier\":\"journals\",\"title\":\"Journals\",\"item_count\":\"2129213\"},{\"identifier\":\"oldtimeradio\",\"title\":\"Old Time Radio\",\"item_count\":\"10980\"},{\"identifier\":\"audioboo_ru\",\"title\":\"Russian Audiobooks\",\"item_count\":\"75979\"},{\"identifier\":\"audiobook_viet\",\"title\":\"Folksoundomy: Vietnamese Audiobooks\",\"item_count\":\"42705\"},{\"identifier\":\"social-media-video\",\"title\":\"Social Media Videos\",\"item_count\":\"815124\"}]}}\n"
     ]
    }
   ],
   "source": [
    "# Find the element containing the JSON data\n",
    "element = driver.find_element('xpath','//pre')\n",
    "\n",
    "# Get the JSON data from the element\n",
    "json_data = element.text\n",
    "print(json_data)"
   ]
  },
  {
   "cell_type": "code",
   "execution_count": 86,
   "metadata": {},
   "outputs": [],
   "source": [
    "# Parse the JSON data\n",
    "parsed_json_data = json.loads(json_data)"
   ]
  },
  {
   "cell_type": "code",
   "execution_count": 87,
   "metadata": {},
   "outputs": [
    {
     "name": "stdout",
     "output_type": "stream",
     "text": [
      "Identifier:americana,  Title: American Libraries, Item Count: 4129513\n",
      "Identifier:audio_bookspoetry,  Title: Audio Books & Poetry, Item Count: 168128\n",
      "Identifier:librivoxaudio,  Title: The LibriVox Free Audiobook Collection, Item Count: 19637\n",
      "Identifier:additional_collections,  Title: Additional Collections, Item Count: 22674312\n",
      "Identifier:apkarchive,  Title: APK Archive, Item Count: 122974\n",
      "Identifier:etree,  Title: Live Music Archive, Item Count: 276051\n",
      "Identifier:toronto,  Title: Canadian Libraries, Item Count: 861188\n",
      "Identifier:phonesoftware,  Title: The Phone Software Archive, Item Count: 162388\n",
      "Identifier:artsandmusicvideos,  Title: Arts & Music, Item Count: 19617\n",
      "Identifier:ElectricSheep,  Title: Electric Sheep, Item Count: 736\n",
      "Identifier:folksoundomy,  Title: Folksoundomy: A Library of Sound, Item Count: 1024773\n",
      "Identifier:moviesandfilms,  Title: Movies, Item Count: 102831\n",
      "Identifier:kodi_archive,  Title: Kodi Archive and Support File Collection, Item Count: 47113\n",
      "Identifier:robarts,  Title: University of Toronto - Robarts Library, Item Count: 256063\n",
      "Identifier:uspto,  Title: United States Patent and Trademark Office documents, Item Count: 446037\n",
      "Identifier:audio_religion,  Title: Spirituality & Religion, Item Count: 652742\n",
      "Identifier:feature_films,  Title: Feature Films, Item Count: 28385\n",
      "Identifier:tvarchive,  Title: Television Archive, Item Count: 10423808\n",
      "Identifier:cdl,  Title: California Digital Library, Item Count: 201284\n",
      "Identifier:tvnews,  Title: Television Archive News Search Service, Item Count: 2644091\n",
      "Identifier:printdisabled,  Title: Books for People with Print Disabilities, Item Count: 9741930\n",
      "Identifier:audio_islamic,  Title: Islamic Sermons and Lessons, Item Count: 373528\n",
      "Identifier:podcasts,  Title: Podcasts, Item Count: 61996721\n",
      "Identifier:internetarchivebooks,  Title: Internet Archive Books, Item Count: 5905879\n",
      "Identifier:spiritualityandreligion,  Title: Spirituality & Religion, Item Count: 142850\n",
      "Identifier:europeanlibraries,  Title: European Libraries, Item Count: 761153\n",
      "Identifier:opensource_religionvideo,  Title: Community Spirituality and Religion, Item Count: 122460\n",
      "Identifier:radioprograms,  Title: Radio Show and Programs Archive, Item Count: 39924190\n",
      "Identifier:inlibrary,  Title: Texts to Borrow, Item Count: 6865781\n",
      "Identifier:vintagesoftware,  Title: The Vintage Software Collection, Item Count: 277585\n",
      "Identifier:netlabels,  Title: Netlabels, Item Count: 89513\n",
      "Identifier:newsandpublicaffairs,  Title: News & Public Affairs, Item Count: 2326303\n",
      "Identifier:digitallibraryindia,  Title: Public Library of India, Item Count: 749338\n",
      "Identifier:JaiGyan,  Title: JaiGyan: Bharat Ek Khoj, Item Count: 1513536\n",
      "Identifier:folkscanomy,  Title: Folkscanomy: A Library of Books, Item Count: 246510\n",
      "Identifier:prelinger,  Title: Prelinger Archives, Item Count: 9146\n",
      "Identifier:GratefulDead,  Title: Grateful Dead, Item Count: 17560\n",
      "Identifier:biodiversity,  Title: Biodiversity Heritage Library, Item Count: 304453\n",
      "Identifier:audio_sermons,  Title: Sermons & Religious Lectures, Item Count: 355079\n",
      "Identifier:magazine_rack,  Title: The Magazine Rack, Item Count: 424553\n",
      "Identifier:audio_music,  Title: Music, Arts & Culture, Item Count: 1078477\n",
      "Identifier:additional_collections_video,  Title: Additional Collections - Video, Item Count: 1297236\n",
      "Identifier:hentaiarchive,  Title: Hentai, Item Count: 3467\n",
      "Identifier:islamic_studies,  Title: Islamic Studies and Cultural Collection, Item Count: 26743\n",
      "Identifier:usfederalcourts,  Title: RECAP US Federal Court Documents, Item Count: 8369127\n",
      "Identifier:journals,  Title: Journals, Item Count: 2129213\n",
      "Identifier:oldtimeradio,  Title: Old Time Radio, Item Count: 10980\n",
      "Identifier:audioboo_ru,  Title: Russian Audiobooks, Item Count: 75979\n",
      "Identifier:audiobook_viet,  Title: Folksoundomy: Vietnamese Audiobooks, Item Count: 42705\n",
      "Identifier:social-media-video,  Title: Social Media Videos, Item Count: 815124\n"
     ]
    }
   ],
   "source": [
    "# scrape the data \n",
    "docs = parsed_json_data['value']['docs']\n",
    "for doc in docs:\n",
    "    title = doc['title']\n",
    "    item_count = doc['item_count']\n",
    "    identifier=doc['identifier']\n",
    "    print(f\"Identifier:{identifier},  Title: {title}, Item Count: {item_count}\")\n"
   ]
  },
  {
   "cell_type": "code",
   "execution_count": 88,
   "metadata": {},
   "outputs": [
    {
     "name": "stdout",
     "output_type": "stream",
     "text": [
      "Data saved to 'output.json'\n"
     ]
    }
   ],
   "source": [
    "# Save the extracted data to a JSON file\n",
    "with open('output.json', 'w') as json_file:\n",
    "    json.dump(parsed_json_data, json_file)\n",
    "\n",
    "print(\"Data saved to 'output.json'\")"
   ]
  },
  {
   "cell_type": "code",
   "execution_count": 89,
   "metadata": {},
   "outputs": [],
   "source": [
    "# Close the browser window\n",
    "driver.quit()"
   ]
  },
  {
   "cell_type": "code",
   "execution_count": null,
   "metadata": {},
   "outputs": [],
   "source": []
  }
 ],
 "metadata": {
  "kernelspec": {
   "display_name": ".venv",
   "language": "python",
   "name": "python3"
  },
  "language_info": {
   "codemirror_mode": {
    "name": "ipython",
    "version": 3
   },
   "file_extension": ".py",
   "mimetype": "text/x-python",
   "name": "python",
   "nbconvert_exporter": "python",
   "pygments_lexer": "ipython3",
   "version": "3.11.3"
  }
 },
 "nbformat": 4,
 "nbformat_minor": 2
}
